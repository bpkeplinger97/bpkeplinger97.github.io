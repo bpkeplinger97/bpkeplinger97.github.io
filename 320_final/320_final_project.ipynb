{
 "cells": [
  {
   "cell_type": "markdown",
   "metadata": {},
   "source": [
    "# Creating a League of Legends Outcome Guessing System"
   ]
  },
  {
   "cell_type": "code",
   "execution_count": 3,
   "metadata": {},
   "outputs": [],
   "source": [
    "import requests,json\n",
    "import time\n",
    "import re\n",
    "import urllib\n",
    "import calendar\n",
    "import time\n",
    "import traceback\n",
    "import math\n",
    "import sqlite3\n",
    "import random\n",
    "import os.path\n",
    "import matplotlib.pyplot as plt\n",
    "import numpy as np\n",
    "import pandas\n",
    "from statistics import mean,stdev\n",
    "from scipy.stats import norm\n",
    "from bs4 import BeautifulSoup\n",
    "from signal import signal, SIGINT\n",
    "from sys import exit\n",
    "from os import path"
   ]
  },
  {
   "cell_type": "markdown",
   "metadata": {},
   "source": [
    "# Overview  \n",
    "The following is a project from my Introduction to Data Science class in which we were expected to perform data curation, parsing, and management; exploratory data analysis; hypothesis testing and machine learning to provide analysis. Then finally I need to give a message talking about what I learned from my work.  \n",
    "  \n",
    "I initially intended to do this project in Rust, as a lot of my data curation work for another project was already written, but I changed course when I realized I needed to access [OP.GG](https://na.op.gg/) and manually scrape data. So to make things as painless as possible, I went with Python3, a language I'm very comfortable with."
   ]
  },
  {
   "cell_type": "markdown",
   "metadata": {},
   "source": [
    "# Context \n",
    "[League of Legends](https://na.leagueoflegends.com/en-us/) is a very popular [Multiplayer Online Battle Arena](https://en.wikipedia.org/wiki/Multiplayer_online_battle_arena) (MOBA) officially released in 2010, which has become the largest eSports game in the world, and boasts an impressive [80 million unique players every year](https://www.unrankedsmurfs.com/blog/players-2017). I have played League of Legends since the end of 2013 and continue to play almost every day, often playing with friends as a way to destress.  \n",
    "  \n",
    "There are several game modes, from a single lane team deathmatch with random champions, to a gamemode with low ability and item cooldowns to let players spam to their hearts' content, to the competitive ranked queue where players test themselves against one another.  \n",
    "  \n",
    "For this project I only ~~used~~ **INTENDED** to use data from both normal (non-competitive) and ranked gamemodes, **(As of 8:12PM on 5/18/20, I have just realized I was not filtering the matches correctly so I was accepting data from any format, and I have no time to fix it. ~~God damnit.~~. What this means is that we include modes where counter picking isn't an option as well as those without lane assignments, which messes with Hypothesis 4 later on.)** in a specific format known as draft, where there's more strategy involved and the potential to counter the enemy champion picks exists. If this is a bit confusing there's a lot of information for those who are new to the game [here](https://na.leagueoflegends.com/en-us/how-to-play/).  \n",
    "  \n",
    "There are many factors that go into winning a game of League of Legends, and working to classify them is important but often the onus lies on the choice of champions. Many professionals and high-level analysts will tell you that a game relies as heavily on, if not more on, the draft instead of the way the players execute the team composition they are given. There's a lot to it and if you're really curious there's a high ranked person who goes by LS and often does in depth dives into how a team wins draft, an example of how in-depth it can get can be found [here](https://www.youtube.com/watch?v=VDE5erfUEGI). (Warning, it's a 3 hour video about drafting a team and all the ins-and-outs of team compositions.)  \n",
    "  \n",
    "Given this information, it's not a far stretch to say we could guess which team has the advantage based on their draft alone. There are already examples of this (but this is a class project so I frankly don't care). An instance of this can be found [here](https://www.mobachampion.com/predict/) and a paper was even written about a very similar system to what I have planned [here](http://cs229.stanford.edu/proj2016/report/Lin-LeagueOfLegendsMatchOutcomePrediction-report.pdf). "
   ]
  },
  {
   "cell_type": "markdown",
   "metadata": {},
   "source": [
    "## What Constitutes Balance and How Can it Affect Predictions?\n",
    "Balance is when often considered to be when a champion is sitting at exactly a 50 percent winrate, meaning that for every win that occurs on a champion, a loss will also occur. This ties into a champions perceived power level as seeing a very high winrate can indicate that a champion should be picked, but at the end of the day it is just a number, and is not a qualitative representation of a champions strength.  \n",
    "  \n",
    "If you're curious as to how Riot Games themselves classified champion balance, check out [this](https://nexus.leagueoflegends.com/en-us/2019/05/dev-champion-balance-framework/) dev blog from a year ago that goes pretty in-detail as to who their audience is and what they're trying to do with League of Legends."
   ]
  },
  {
   "cell_type": "markdown",
   "metadata": {},
   "source": [
    "# Data Curation\n",
    "## Local File Reading\n",
    "Below this we're building out mappings from champion numbers to names, Riot stores champions under numbers as they are universal and help to circumvent language barriers. These are all local files I have created through various other projects I have done using the Riot API.  \n",
    "  \n",
    "Next we take my self-classified damage types and insert them into a python dictionary. These classifications say whether a champion deals Physical Damage (AD), Magic Damage (AP), or they are not meant to do damage (NO). Additionally this classifies whether they are a Tank (TANK) or not.  \n",
    "Finally we grab the champion winrates we harvested from OP.GG and build a dictionary mapping Champion name -> Winrate"
   ]
  },
  {
   "cell_type": "code",
   "execution_count": 4,
   "metadata": {},
   "outputs": [],
   "source": [
    "# Build out the mapping of champion number to names\n",
    "champion_map = {}\n",
    "if not path.exists(\"resources/champ_mapping\"):\n",
    "    print(\"File doesn't exist: resources/champ_mapping\")\n",
    "    exit(0)\n",
    "with open(\"resources/champ_mapping\") as f:\n",
    "    for line in f:\n",
    "        vals = line.strip().split(\":\")\n",
    "        champion_map[int(vals[0])] = vals[1]"
   ]
  },
  {
   "cell_type": "code",
   "execution_count": 5,
   "metadata": {},
   "outputs": [],
   "source": [
    "# Map champions to the type of damage they deal (or indicate tank or No damage)\n",
    "damage_map = {}\n",
    "if not path.exists(\"resources/damage\"):\n",
    "    print(\"File doesn't exist: resources/damage\")\n",
    "    exit(0)\n",
    "with open(\"resources/damage\") as f:\n",
    "    for line in f:\n",
    "        vals = line.strip().split(\":\")\n",
    "        damage_map[vals[0]] = vals[1]"
   ]
  },
  {
   "cell_type": "code",
   "execution_count": 6,
   "metadata": {},
   "outputs": [],
   "source": [
    "# Map from the champions to each role and the winrate of each\n",
    "champions_winrates = {}\n",
    "with open(\"resources/winrates\") as f:\n",
    "    for line in f:\n",
    "        vals = line.split(\":\")\n",
    "        champions_winrates[vals[0]] = []\n",
    "        for number in range(1,len(vals)):\n",
    "            stuff = vals[number].strip().replace('(','').replace(')','').split(',')\n",
    "            role = stuff[0]\n",
    "            winrate = stuff[1].strip()\n",
    "            champions_winrates[vals[0]].append((role,winrate))"
   ]
  },
  {
   "cell_type": "markdown",
   "metadata": {},
   "source": [
    "## SQL Database Initialization\n",
    "I chose [sqlite](https://www.sqlite.org/index.html) due to its compatability with Python, my familiarity with it, and the ability to store tables locally. If you want to create a new database and harvest new data for it, uncomment the first 4 lines and run the following block with an empty sql file. Otherwise just run the two blocks to make sure our lookup is seeded properly. It will create tables if none exist and then insert an accountId as a starting player to look through. This will not work if there are no draft games under your accountId.  \n",
    "  \n",
    "If you want to use your accountId instead, go to the [Riot Games API](https://developer.riotgames.com/apis#summoner-v4/GET_getBySummonerName), create an API Key for yourself and enter your summoner name. Then take the value that is returned under \"accountId\" and replace my accountId in the blocks below."
   ]
  },
  {
   "cell_type": "code",
   "execution_count": 7,
   "metadata": {},
   "outputs": [],
   "source": [
    "# Initialize database and return the connection to it\n",
    "def initialize_database(cursor):\n",
    "    #######################################################\n",
    "    # UNCOMMENT THESE4  LINES IF STARTING A NEW DATA FILE #\n",
    "    #######################################################\n",
    "    #statement = \"CREATE TABLE games (gameId INTEGER PRIMARY KEY,winner INTEGER,top1 varchar(25),jungle1 varchar(25),middle1 varchar(25),bottom1 varchar(25),support1 varchar(25),top2 varchar(25),jungle2 varchar(25),middle2 varchar(25),bottom2 varchar(25),support2 varchar(25));\"\n",
    "    #cursor.execute(statement)\n",
    "    #statement = \"CREATE TABLE summoners (accountId varchar(50), checked INTEGER);\"\n",
    "    #cursor.execute(statement)\n",
    "\n",
    "    # Check if we've already seeded our table\n",
    "    statement = \"SELECT * FROM summoners WHERE accountId = 'W9U-Tzxs9WEMaovax0icYtLUlb9D7D0n0ZcL55TTZ-PV2-I';\"\n",
    "    f = cursor.execute(statement).fetchall()\n",
    "    if len(f) == 0:\n",
    "        # Fill in my personal account ID, replace with yours if you're intending to use yourself as a seed\n",
    "        statement = \"INSERT INTO summoners VALUES ('W9U-Tzxs9WEMaovax0icYtLUlb9D7D0n0ZcL55TTZ-PV2-I',0);\"\n",
    "        cursor.execute(statement)\n",
    "        #print(\"inserting\")\n",
    "    return"
   ]
  },
  {
   "cell_type": "code",
   "execution_count": 8,
   "metadata": {},
   "outputs": [],
   "source": [
    "sql = sqlite3.connect(\"/home/vmuser/final_project_320/database.db\")\n",
    "cursor = sql.cursor()\n",
    "\n",
    "initialize_database(cursor)"
   ]
  },
  {
   "cell_type": "markdown",
   "metadata": {},
   "source": [
    "## Winrate Updating from OP.GG\n",
    "This function allows us to grab winrates from [OP.GG](https://na.op.gg/champion/statistics), a popular statistics aggregating website for the game, and replace the old ones. It's recommended you run this if you intend to test our code, as winrates can vary wildly from week-to-week. However this takes a long time, as there is a need to check every role for every champion (147 champions * 5 roles each = 735 Get Requests total). Alternatively you can work with the data I've already collected.  \n",
    "  \n",
    "To collect the data, I used [BeautifulSoup3](https://www.crummy.com/software/BeautifulSoup/bs4/doc/) in tandem with the [Requests](https://requests.readthedocs.io/en/master/) and [Json](https://docs.python.org/3/library/json.html) modules provided with Python. The goal was to find the winning percentage for every champion in any given role they played. If there isn't enough data for a given role (determined by OP.GG) we simply indicate that in the file with a 'None'. These winrates are stored to data/winrates and will be used to calculate average winning percentage based on a teams choice of champions.  \n",
    "  \n",
    "The general workflow for this was get the page for each champion and each of the 5 roles (top, middle, jungle, support, bottom) and convert the page using BeautifulSoup to make it something we can search through. Then we search for a div element shared between each of the pages which contains the winrate. If we find one we strip it of it's percent sign and convert the remaining number to a float."
   ]
  },
  {
   "cell_type": "code",
   "execution_count": 9,
   "metadata": {},
   "outputs": [],
   "source": [
    "def update_wr():\n",
    "    roles = [\"top\",\"jungle\",\"mid\",\"bot\",\"support\"]\n",
    "    # Check if the file containing the names for all the champions exists or not. If not you'll get told off\n",
    "    if not path.exists(\"resources/champcopy\"):\n",
    "        print(\"File doesn't exist: resources/champcopy\")\n",
    "        exit(0)\n",
    "    # Now go through the champions, look up the winrate in every role and update our winrates file accordingly.\n",
    "    with open(\"resources/champcopy\") as f:\n",
    "        with open(\"resources/winrates\",\"w+\") as writer:\n",
    "            for champion in f:\n",
    "                if champion != \"\":\n",
    "                    champion = champion.strip()\n",
    "                    # Request the page for each champion for each role\n",
    "                    count = 0 # Keep track of how many roles we track for each champion\n",
    "                    winrates = [] # Keep track of per role winrate\n",
    "                    for role in roles:\n",
    "                        element = \"None\"\n",
    "                        url = 'https://na.op.gg/champion/{}/statistics/{}'.format(champion,role)\n",
    "                        data = requests.get(url)\n",
    "                        data = data.text\n",
    "                        # Parse the html we get back and search for the element we want (winrate)\n",
    "                        soup = BeautifulSoup(data,\"html.parser\")\n",
    "                        if soup.find('div', attrs={'class': \"champion-stats-trend-rate\"}) != None:\n",
    "                            element = soup.find('div', attrs={'class': \"champion-stats-trend-rate\"}).text.strip().replace(\"%\",\"\")\n",
    "                            if element == \"\" or element == \"%\":\n",
    "                                winrates.append((role,\"None\"))\n",
    "                                continue\n",
    "                            winrates.append((role,element))\n",
    "                            print(element)\n",
    "                            count += 1\n",
    "                        else:\n",
    "                            winrates.append((role,\"None\"))\n",
    "\n",
    "                    writer.write(\"{}:\".format(champion))\n",
    "                    for (i,winrate) in enumerate(winrates):\n",
    "                        writer.write(\"{}\".format(winrate))\n",
    "                        if i < len(winrates) - 1:\n",
    "                            writer.write(\":\".format(winrate))\n",
    "                    writer.write(\"\\n\")\n",
    "    print(\"Finished updating winrate\")\n",
    "    return"
   ]
  },
  {
   "cell_type": "markdown",
   "metadata": {},
   "source": [
    "### Driver for Updating From OP.GG\n",
    "The code below asks if we should update or not, if you're short on time don't type yes."
   ]
  },
  {
   "cell_type": "code",
   "execution_count": 119,
   "metadata": {},
   "outputs": [
    {
     "name": "stdout",
     "output_type": "stream",
     "text": [
      "Should I update winrates?n\n"
     ]
    }
   ],
   "source": [
    "#Update Winrate, only run if you have time.\n",
    "in_val = input(\"Should I update winrates?\\n\")\n",
    "if in_val == \"y\" or in_val == \"yes\":\n",
    "    update_wr()\n",
    "else:\n",
    "    pass"
   ]
  },
  {
   "cell_type": "markdown",
   "metadata": {},
   "source": [
    "## Riot Games API\n",
    "The next portion is our data aggregator, which begins by asking the lower bound on the amount of games we should parse. Every summoner has 100 games parsed, and due to rate limits we occasionally set the program to sleep for 90 seconds to stop bumping into the limit. Due to this, this portion of the program takes a while. If testing, I recommend a lower bound of 500 games, which should go through 5-6 summoners. Additionally, this will take games starting from 5/13/20, as that's when the last balance patch was released. If you want to take more up to date games, change the starting date to the most recent patch date at 12:00. The patch dates can be found [here](https://www.pcgamesn.com/league-of-legends/lol-patch-cycle-2020), by looking for the most recent date (currently we are on patch 10.10, which was released on 5/13/20).  \n",
    "  \n",
    "A note, API Keys are not allowed in [public facing projects](https://developer.riotgames.com/docs/portal#web-apis_api-keys), so for this to work you will need your own, which is no problem as anyone with a Riot Account can sign up for a Development account.  \n",
    "  \n",
    "Now as for how this code works, we start by grabbing summoner account IDs from our table (which is pre-seeded by the blocks above), pick one and pull up their match history since the last patch which will give us the best indication of champion strength based on OP.GG data. We update that person's listing in our sql database (under the summoner table) to indicate we've parsed their match history, and then we go through each match.  \n",
    "  \n",
    "In each match we look for the two teams of champions, ignoring it if for some reason there are not 10 champions listed. We convert the numbers given to names using the champion_map dictionary and then insert that unique Game ID along with which team won, and the champions that were given into the Games sql data table. Next we add the other 9 players to our summoner table if they're not already there, giving us more matches to look through. Finally we commit to our database to make sure the changes went through."
   ]
  },
  {
   "cell_type": "code",
   "execution_count": 93,
   "metadata": {},
   "outputs": [],
   "source": [
    "# Pull data from the api and save it to our sql database\n",
    "def data_aggregator(key,champion_map,conn,cursor):\n",
    "    player_ids = []\n",
    "    total_games = 0\n",
    "    begin_time = calendar.timegm(time.strptime('May 13, 2020 @ 12:00:00 UTC', '%b %d, %Y @ %H:%M:%S UTC')) * 1000\n",
    "\n",
    "    while True:\n",
    "        in_val = input(\"What is the lower bound on the number of games you would like parsed?\\n\")\n",
    "\n",
    "        if in_val.strip().isnumeric():\n",
    "            in_val = int(in_val)\n",
    "            break\n",
    "        else:\n",
    "            print(\"Non-numeric Answer, please provide an answer containing only numbers.\")\n",
    "\n",
    "    while True:\n",
    "        # Grab summoners we haven't checked out yet\n",
    "        statement = \"SELECT accountId FROM summoners WHERE checked = 0;\"\n",
    "        ids = cursor.execute(statement).fetchall()\n",
    "\n",
    "        for id in ids:\n",
    "            player_ids.append(id[0])\n",
    "\n",
    "        # Get the farthest back person\n",
    "        name = player_ids.pop()\n",
    "        print(\"Now on summoner: {}\".format(name))\n",
    "\n",
    "        # Update that we're checking out this players match history\n",
    "        statement = \"UPDATE summoners SET checked = 1 WHERE accountId = '{}';\".format(name)\n",
    "        cursor.execute(statement)\n",
    "        conn.commit()\n",
    "\n",
    "        # Hey dum-dum, you forgot to filter by queue type!!!\n",
    "        # And now you have no time to fix it!!!\n",
    "        # :)\n",
    "        \n",
    "        # Request someons list of matches and put it into a JSON body\n",
    "        req = requests.get(\"\"\"https://na1.api.riotgames.com/lol/match/v4/\n",
    "            matchlists/by-account/{}?api_key={}&beginTime={}\"\"\".format(name,key,begin_time))\n",
    "        summoner_games = req.json()\n",
    "\n",
    "        # If something went wrong with our request, just ignore the game and move on\n",
    "        if req.status_code != 200:\n",
    "            if req.status_code == 403:\n",
    "                print(\"Bad Key\")\n",
    "            else:\n",
    "                print(\"Person doesn't exist!\")\n",
    "            player_ids.append(name)\n",
    "            continue\n",
    "\n",
    "        # Keep track of the number of games we've seen, just for now we're maxing at 1000\n",
    "        if total_games > in_val:\n",
    "            break\n",
    "\n",
    "        # Go through the last games of a given summoner\n",
    "        for (i,games) in enumerate(summoner_games[\"matches\"]):\n",
    "            # Keep track of the teams of champions\n",
    "            team_1 = []\n",
    "            team_2 = []\n",
    "\n",
    "            # Limit of 100 games per player\n",
    "            if i > 99:\n",
    "                break\n",
    "\n",
    "            # Progress indicator\n",
    "            if total_games % 100 == 0:\n",
    "                print(\"On game {}\".format(total_games))\n",
    "\n",
    "            # Write the match number\n",
    "            match_number = games[\"gameId\"]\n",
    "\n",
    "            # Request the game info and put it into a json body\n",
    "            request = requests.get(\"\"\"https://na1.api.riotgames.com/lol/match/v4\n",
    "                /matches/{}?api_key={}\"\"\".format(match_number,key))\n",
    "            game = request.json()\n",
    "\n",
    "            # If we have a bad status code we sleep for a minute to avoid the rate limit\n",
    "            if request.status_code != 200:\n",
    "                print(\"Hit my limit, on game {} going to sleep for a minute\".format(total_games))\n",
    "                time.sleep(90)\n",
    "                continue\n",
    "\n",
    "            # If for whatever reason there's no team field we just ignore it but mark\n",
    "            # that we were there so we don't need to deal with it\n",
    "            if \"teams\" not in game.keys():\n",
    "                games_viewed.append(match_number)\n",
    "                continue\n",
    "\n",
    "            statement = \"SELECT * FROM games WHERE gameId = {}\".format(match_number)\n",
    "            f = cursor.execute(statement).fetchmany(5)\n",
    "            # We're see this game before so we don't want to do it again\n",
    "            if len(f) != 0:\n",
    "                continue\n",
    "\n",
    "            # Check the wins here\n",
    "            if game[\"teams\"][0][\"win\"] == \"Win\":\n",
    "                winner = 1\n",
    "            else:\n",
    "                winner = -1\n",
    "\n",
    "            # Now get the champions and keep track of them\n",
    "            for participant in game[\"participants\"]:\n",
    "                champion_name = champion_map[participant[\"championId\"]]\n",
    "                lane = participant[\"timeline\"][\"lane\"].lower()\n",
    "                if int(participant[\"teamId\"]) == 100:\n",
    "                    team_1.append(champion_name)\n",
    "                else:\n",
    "                    team_2.append(champion_name)\n",
    "\n",
    "            # Add to the set of players we haven't seen yet\n",
    "            for player in game[\"participantIdentities\"]:\n",
    "                id = player[\"player\"][\"currentAccountId\"]\n",
    "                statement = \"SELECT * FROM summoners WHERE accountId = '{}';\".format(id)\n",
    "                output = cursor.execute(statement).fetchall()\n",
    "                # If we don't have an entry for this summoner yet, we say \"we'll get to you later\"\n",
    "                if len(output) == 0:\n",
    "                    statement = \"INSERT INTO summoners VALUES ('{}',0);\".format(id)\n",
    "                    cursor.execute(statement)\n",
    "\n",
    "            total_games += 1\n",
    "\n",
    "            if len(team_1) + len(team_2) == 10:\n",
    "                statement = \"INSERT INTO games VALUES ({},{},'{}','{}','{}','{}','{}','{}','{}','{}','{}','{}');\".format(game[\"gameId\"],winner,team_1[0],team_1[1],team_1[2],team_1[3],team_1[4],team_2[0],team_2[1],team_2[2],team_2[3],team_2[4])\n",
    "                cursor.execute(statement)\n",
    "            conn.commit()\n",
    "        conn.commit()\n",
    "    conn.commit()\n",
    "\n",
    "    print(\"I looked over {} games total\".format(total_games))\n",
    "    return"
   ]
  },
  {
   "cell_type": "markdown",
   "metadata": {},
   "source": [
    "### Driver to Aggregate Data and Assign Key\n",
    "This code will assign our key value from the environment assigned elsewhere. Then it will check if we want to aggregate moe data or not."
   ]
  },
  {
   "cell_type": "code",
   "execution_count": 26,
   "metadata": {},
   "outputs": [],
   "source": [
    "key = %env key"
   ]
  },
  {
   "cell_type": "code",
   "execution_count": 9,
   "metadata": {},
   "outputs": [
    {
     "name": "stdout",
     "output_type": "stream",
     "text": [
      "Should I aggregate more data?\n",
      "n\n"
     ]
    }
   ],
   "source": [
    "in_val = input(\"Should I aggregate more data?\\n\")\n",
    "if in_val == \"y\" or in_val == \"yes\":\n",
    "    data_aggregator(key,champion_map,sql,cursor)\n",
    "else:\n",
    "    pass"
   ]
  },
  {
   "cell_type": "markdown",
   "metadata": {},
   "source": [
    "# Exploratory Data Analysis\n",
    "## Winrate Distribution by Roles\n",
    "I was curious about how the winrates would be spread over each role, but I ran into an issue where boxplots needed to have the same length, and we couldn't provide that with the current setup. Nevertheless I pressed on and was given a very odd graph. After looking at the data in this form I realized it would not be terribly useful for analysis due to the sheer amount of fake data I had to insert.  \n",
    "  \n",
    "Knowing this, I then chose to graph the distributions (without fake input values) using a histogram to really get a sense for how each role was distributed. This was done with all 5 roles, and the analysis will be above each code block. It should be mentioned that this data changes from week to week, so this is only as relevant as when it was posted. Additionally, the bottom lane winrate was most affected by my padding of our statistics, the box is there at 50 % but is extremely tiny. I expand a bit more on why that is in the Bottom Lane Distribution section.  \n",
    "  \n",
    "I classified outliers as those with less that 40 or higher than 60 percent winrates, as often times it's not uncommon to see a few champions go just beyond 45 or 55 percent based on player ability."
   ]
  },
  {
   "cell_type": "code",
   "execution_count": 102,
   "metadata": {},
   "outputs": [
    {
     "data": {
      "image/png": "[encoded data removed]",
      "text/plain": [
       "<Figure size 432x288 with 1 Axes>"
      ]
     },
     "metadata": {
      "needs_background": "light"
     },
     "output_type": "display_data"
    }
   ],
   "source": [
    "# Store the winrates for each role\n",
    "top = []\n",
    "mid = []\n",
    "jungle = []\n",
    "bot = []\n",
    "support = []\n",
    "with open(\"resources/winrates\") as f:\n",
    "    for line in f:\n",
    "        if line != \"\":\n",
    "            champ_and_roles = line.replace(\"'\",\"\").split(\":\")\n",
    "            for stuff in champ_and_roles:\n",
    "                split_up = stuff.replace(\"(\",\"\").replace(\")\",\"\").split(',')\n",
    "                if len(split_up) < 2:\n",
    "                    continue\n",
    "                role = split_up[0]\n",
    "                wr = split_up[1].strip()\n",
    "                # Grab the relevant winrate\n",
    "                if wr != \"None\":\n",
    "                    if role == \"top\":\n",
    "                        top.append(float(wr.strip().replace(\"'\",\"\")))\n",
    "                    elif role == \"jungle\":\n",
    "                        jungle.append(float(wr.strip().replace(\"'\",\"\")))\n",
    "                    elif role == \"mid\":\n",
    "                        mid.append(float(wr.strip().replace(\"'\",\"\")))\n",
    "                    elif role == \"bot\":\n",
    "                        bot.append(float(wr.strip().replace(\"'\",\"\")))\n",
    "                    elif role == \"support\":\n",
    "                        support.append(float(wr.strip().replace(\"'\",\"\")))\n",
    "\n",
    "# Get the max length of the lists\n",
    "length = max(len(top),len(jungle),len(mid),len(bot),len(supp))\n",
    "\n",
    "# Copy the lists to avoid issues down the line, make a dictionary to store the data for our boxplot\n",
    "data = {'Top Lane':top.copy(),'Jungle':jungle.copy(),'Middle Lane':mid.copy(),\n",
    "        'Bottom Lane':bot.copy(),'Support':support.copy()}\n",
    "\n",
    "# Add in dummy values to satisfy the boxplot\n",
    "for (key,value) in data.items():\n",
    "    if len(value) < length:\n",
    "        diff = length - len(value)\n",
    "        value.extend([50.0] * diff)\n",
    "\n",
    "# Shove it into a data frame and box plot it\n",
    "frame = pandas.DataFrame(data)\n",
    "boxplot = frame.boxplot()\n",
    "plt.ylabel('Winrates (Percetage)')\n",
    "plt.xlabel('Game Roles')\n",
    "plt.title('Winrate Distribution by Game Role')\n",
    "plt.show()"
   ]
  },
  {
   "cell_type": "markdown",
   "metadata": {},
   "source": [
    "## Top Lane Distribution\n",
    "Code to graph the distribution of top lane winrates.  \n",
    "  \n",
    "From the following graph, we can see that there is a relatively even spread, with a mean winrate of about 50%, indicating the amount of power and responsibility each of the champions can have.  \n",
    "  \n",
    "Let's talk about the outliers, at a winrate of 38.33% we have [Skarner](https://na.leagueoflegends.com/en-us/champions/skarner/), a very specialized champion meant to be played in the jungle where he can run around and gain control of certain zones of the map. If he is played in Top Lane he will not have the ability to take control of these zones as easily and will essentially be missing out on a powerful game mechanic that is unique to his character.  \n",
    "  \n",
    "The second outlier, sitting at a 60.76% winrate is [Karma](https://na.leagueoflegends.com/en-us/champions/karma/), a versatile but very simple mage who has many optimal build paths and very rarely gets beaten by a wide margin. Additionally the only people that tend to play this champion are those who play her a lot, meaning they are more likely to know how to win a given matchup."
   ]
  },
  {
   "cell_type": "code",
   "execution_count": 146,
   "metadata": {},
   "outputs": [
    {
     "data": {
      "image/png": "[encoded data removed]",
      "text/plain": [
       "<Figure size 432x288 with 1 Axes>"
      ]
     },
     "metadata": {
      "needs_background": "light"
     },
     "output_type": "display_data"
    }
   ],
   "source": [
    "num_bins = 25 # Number of bins for histogram, 25 seemed pretty good and didn't overcrowd\n",
    "\n",
    "# Put the data into a dataframe, graph the mean and the histogram of the dataframe\n",
    "temp = pandas.DataFrame(top)\n",
    "plt.axvline(x=temp[0].mean(),color=\"r\")\n",
    "plt.hist(top,num_bins,rwidth=0.5)\n",
    "plt.title('Distribution of Top Lane Winrates')\n",
    "plt.xlabel('Winrates (%)')\n",
    "plt.ylabel('Frequency')\n",
    "plt.legend([\"Mean\"])\n",
    "\n",
    "plt.show()"
   ]
  },
  {
   "cell_type": "markdown",
   "metadata": {},
   "source": [
    "## Jungle Distribution\n",
    "Code to graph the distribution of jungle winrates.  \n",
    "  \n",
    "Jungle is a notoriously difficult role, often requiring a large amount of critical thinking, and those who don't play it often can find themselves being overwhelmed and defeated very quickly. At the same time, junglers can have a large impact on the game, and have been lowered in power many times to account for this, giving us a reasonable spread in winrates. This fits well with our graph, as most winrates are between 45 and 55 percent, which is considered to be pretty average. However, the mean winrate is about 48.5%, which reinforces the idea of a specialist role that is easy to make mistakes in.   \n",
    "  \n",
    "As for outliers here, we have [Kayle](https://na.leagueoflegends.com/en-us/champions/kayle/) at 39.83%, [Darius](https://na.leagueoflegends.com/en-us/champions/darius/) at 39.61%, [Talon](https://na.leagueoflegends.com/en-us/champions/talon/) at 39.26%, and [Zed](https://na.leagueoflegends.com/en-us/champions/zed/) at 30.1%. None of these champions were designed for the jungle, though recently ([Patch 10.4](https://na.leagueoflegends.com/en-us/news/game-updates/patch-10-4-notes/), Look for the \"Jungle Champions\" portion of the notes) Darius, Talon, and Zed were given buffs to help them play this role. This has led them to being played in that role, but it would appear that the people using this strategy are potentially not as well versed as they should be, or that it's just not a role the champion does well.  \n",
    "  \n",
    "Kayle is a special champion who relies on her in-game level to be strong, and jungling does not lend itself to that currently, as leveling is a very slow process if the champion has a weak early-game."
   ]
  },
  {
   "cell_type": "code",
   "execution_count": 147,
   "metadata": {},
   "outputs": [
    {
     "data": {
      "image/png": "[encoded data removed]",
      "text/plain": [
       "<Figure size 432x288 with 1 Axes>"
      ]
     },
     "metadata": {
      "needs_background": "light"
     },
     "output_type": "display_data"
    }
   ],
   "source": [
    "num_bins = 25 # Number of bins for histogram, 25 seemed pretty good and didn't overcrowd\n",
    "\n",
    "# Put the data into a dataframe, graph the mean and the histogram of the dataframe\n",
    "temp = pandas.DataFrame(jungle)\n",
    "plt.axvline(x=temp[0].mean(),color=\"r\")\n",
    "plt.hist(jungle,num_bins,rwidth=0.5)\n",
    "plt.title('Distribution of Jungle Winrates')\n",
    "plt.xlabel('Winrates (%)')\n",
    "plt.ylabel('Frequency')\n",
    "plt.legend([\"Mean\"])\n",
    "\n",
    "plt.show()"
   ]
  },
  {
   "cell_type": "markdown",
   "metadata": {},
   "source": [
    "## Middle Lane DIstribution\n",
    "Code to produce the distribution of Middle Lane winrates.  \n",
    "  \n",
    "In a similar vein to top lane, we see an almost normal distribution by the eye test. Champions in this role often have the ability to affect the rest of the map, as their position gives them access to both of the other lanes as well as the jungle. Interestingly we see over 20 champions sitting between 49.5 and 50% which indicates a relatively balanced set of champions. Additionally, we see a near 50% mean winrate, which would tend to indicate the champions in this role are well-balanced.  \n",
    "  \n",
    "The outliers in this case are [Kennen](https://na.leagueoflegends.com/en-us/champions/kennen/) and [Taric](https://na.leagueoflegends.com/en-us/champions/taric/). Kennen is unexpected, but I imagine his success is primarily due to his ultimate ability and it's game-changing potential.  \n",
    "  \n",
    "Taric is normally a support, but his winrate is extremely high due to a single strategy called [funneling](https://www.tiltreport.com/articles/697/what-funnel-strategy-league-legends-and-why-is-it-so-strong) in which he takes the Middle Lane position to give more money to the Jungler, who is normally meant to become strong much later into the game, and help to make them much stronger much sooner. It's not very common anymore due to multiple rounds of nerfs (power decreases), but it is still an effective strategy as evidenced by its winrate."
   ]
  },
  {
   "cell_type": "code",
   "execution_count": 148,
   "metadata": {},
   "outputs": [
    {
     "data": {
      "image/png": "[encoded data removed]",
      "text/plain": [
       "<Figure size 432x288 with 1 Axes>"
      ]
     },
     "metadata": {
      "needs_background": "light"
     },
     "output_type": "display_data"
    }
   ],
   "source": [
    "num_bins = 25 # Number of bins for histogram, 25 seemed pretty good and didn't overcrowd\n",
    "\n",
    "# Put the data into a dataframe, graph the mean and the histogram of the dataframe\n",
    "temp = pandas.DataFrame(mid)\n",
    "plt.axvline(x=temp[0].mean(),color=\"r\")\n",
    "plt.hist(mid,num_bins,rwidth=0.5)\n",
    "plt.title('Distribution of Middle Lane Winrates')\n",
    "plt.xlabel('Winrates (%)')\n",
    "plt.ylabel('Frequency')\n",
    "plt.legend([\"Mean\"])\n",
    "\n",
    "plt.show()"
   ]
  },
  {
   "cell_type": "markdown",
   "metadata": {},
   "source": [
    "## Bottom Lane Distribution\n",
    "Code to plot the distribution of Bottom Lane winrates.  \n",
    "  \n",
    "Bottom Lane is a very specialized role, often consisting of a ranged high-damage champion who relies on a supportive champion to help them in their lane. Generally this lane is kept under a close eye as the ability for this lane to take over the game is disproportionate to others due to them having a support to help keep them alive and allow them to make plays. Though it should be noted that many of these champions are expected to receive buffs soon to help them become more relevant in the game. The mean is about 51%, which tells me the role is pretty well balanced at the moment, possibly leaning towards being slightly strong.  \n",
    "  \n",
    "There weren't any real outliers in this role, again mostly due to the closely-watched nature of it, in addition to the high game-knowledge and game-mechanic requirements.  "
   ]
  },
  {
   "cell_type": "code",
   "execution_count": 150,
   "metadata": {},
   "outputs": [
    {
     "data": {
      "image/png": "[encoded data removed]",
      "text/plain": [
       "<Figure size 432x288 with 1 Axes>"
      ]
     },
     "metadata": {
      "needs_background": "light"
     },
     "output_type": "display_data"
    }
   ],
   "source": [
    "num_bins = 25 # Number of bins for histogram, 25 seemed pretty good and didn't overcrowd\n",
    "\n",
    "# Put the data into a dataframe, graph the mean and the histogram of the dataframe\n",
    "temp = pandas.DataFrame(bot)\n",
    "plt.axvline(x=temp[0].mean(),color=\"r\")\n",
    "plt.hist(bot,num_bins,rwidth=0.5)\n",
    "plt.title('Distribution of Bottom Lane Winrates')\n",
    "plt.xlabel('Winrates (%)')\n",
    "plt.ylabel('Frequency')\n",
    "plt.legend([\"Mean\"])\n",
    "\n",
    "plt.show()"
   ]
  },
  {
   "cell_type": "markdown",
   "metadata": {},
   "source": [
    "## Support Distribution\n",
    "Code to graph the distribution of support winrates.  \n",
    "  \n",
    "Supports have the job of helping their team, which can happen in various ways, be it keeping their bottom laner alive or setting up playes for their team. This puts a lot of power into the support role to affect the game, but also puts a lot of pressure on the role as well. We can see that supports tend to spread pretty evenly between 45 and 53 percent, which tells me that most supports tend to be pretty balanced in fulfilling what their role and their champion is meant to do. Additionally, our mean value is lying at the 49 percent mark, which may indicate an underpowered role, or that it's a difficult role to find success with.  \n",
    "  \n",
    "Our single outlier is [Nunu &amp; Willump](https://na.leagueoflegends.com/en-us/champions/nunu/) who's kit does not lend itself well to the role when compared with other champions. "
   ]
  },
  {
   "cell_type": "code",
   "execution_count": 149,
   "metadata": {},
   "outputs": [
    {
     "data": {
      "image/png": "[encoded data removed]",
      "text/plain": [
       "<Figure size 432x288 with 1 Axes>"
      ]
     },
     "metadata": {
      "needs_background": "light"
     },
     "output_type": "display_data"
    }
   ],
   "source": [
    "num_bins = 25 # Number of bins for histogram, 25 seemed pretty good and didn't overcrowd\n",
    "\n",
    "# Put the data into a dataframe, graph the mean and the histogram of the dataframe\n",
    "temp = pandas.DataFrame(support)\n",
    "plt.axvline(x=temp[0].mean(),color=\"r\")\n",
    "plt.hist(support,num_bins,rwidth=0.5)\n",
    "plt.title('Distribution of Support Winrates')\n",
    "plt.xlabel('Winrates (%)')\n",
    "plt.ylabel('Frequency')\n",
    "plt.legend([\"Mean\"])\n",
    "\n",
    "plt.show()"
   ]
  },
  {
   "cell_type": "markdown",
   "metadata": {},
   "source": [
    "# Hypothesis Testing and Analysis\n",
    "My 4 Hypotheses were:  \n",
    "1. Given the average winrate of the champions on each team, we can guess the outcome of any given match.  \n",
    "2. Given a team composition, we can use the spread of damage and the amount of tanks to guess the outcome of any given match.  \n",
    "3. Given both a the average winrate of a team and the spread of damage, we can guess the outcome of any given match.\n",
    "4. Given the average winrate of the champions on each team for the role they play, or the combined average of all roles they play, we can guess the outcome of any given match."
   ]
  },
  {
   "cell_type": "markdown",
   "metadata": {},
   "source": [
    "## Hypothesis 1: Guess From Winrates Only\n",
    "This is a function to guess the outcome of a game given only the winrates. If you want updates, you can uncomment the print lines at the bottom, but when I call this function later, I have it graph this later, so it's not really necessary. First it calculates the average winrate across both teams, using the average winrate per champion across all roles they are played in, then takes the higher value and assigns a winner based off that."
   ]
  },
  {
   "cell_type": "code",
   "execution_count": 33,
   "metadata": {},
   "outputs": [],
   "source": [
    "def guess_only_winrates(winrate_map,champion_map,damage_types,conn,cursor,values):    \n",
    "    # Keep track of times correct and the total number of guessed\n",
    "    correct = 0\n",
    "    total = 0\n",
    "\n",
    "    # Now we begin guessing\n",
    "    for (gameId,winner,top1,jungle1,middle1,bottom1,support1,top2,jungle2,middle2,bottom2,support2) in values:\n",
    "        # Build out our lists of teams\n",
    "        team_1 = [top1,jungle1,middle1,bottom1,support1]\n",
    "        team_2 = [top2,jungle2,middle2,bottom2,support2]\n",
    "\n",
    "        # Calculate our winrate averages for each team of champions\n",
    "        (wr1,wr2) = calculate_average_wr(winrate_map,team_1,team_2)\n",
    "\n",
    "        # If team_1 would win we say +1, otherwise -1\n",
    "        if wr1 > wr2:\n",
    "            guessed_winner = 1\n",
    "        else:\n",
    "            guessed_winner = -1\n",
    "\n",
    "        # Check against the known outcome\n",
    "        if winner == guessed_winner:\n",
    "            correct += 1\n",
    "            \n",
    "        total += 1\n",
    "\n",
    "        #print(\"\"\"On this pass we ended up with {} correct \n",
    "            #out of {} for a correct percentage of {}\"\"\".format(correct,total,100.0 * correct/total))\n",
    "\n",
    "    return (correct,total)"
   ]
  },
  {
   "cell_type": "markdown",
   "metadata": {},
   "source": [
    "### Calculating Average Winrate\n",
    "Here we are just calculating the average winrate across both teams and returning them"
   ]
  },
  {
   "cell_type": "code",
   "execution_count": 32,
   "metadata": {},
   "outputs": [],
   "source": [
    "def calculate_average_wr(winrate_map,team_1,team_2):\n",
    "    team_1_total = 0\n",
    "    team_2_total = 0\n",
    "    \n",
    "    # Add the winrates up and divide by 5 (5 champions per team)\n",
    "    for champion in team_1:\n",
    "        used_winrate = 0.0\n",
    "        count = 0\n",
    "        # Make sure we're only grabbing winrates that exist\n",
    "        for (position,winrate) in winrate_map[champion]:\n",
    "            if winrate != \"'None'\":\n",
    "                # Remove extraneous characters that end up on the file for whatever reason\n",
    "                used_winrate = used_winrate + float(winrate.replace(\"'\",\"\"))\n",
    "                count += 1\n",
    "        used_winrate = used_winrate / count\n",
    "        team_1_total += used_winrate\n",
    "\n",
    "    for champion in team_2:\n",
    "        used_winrate = 0.0\n",
    "        count = 0\n",
    "        # Make sure we're only grabbing winrates that exist\n",
    "        for (position,winrate) in winrate_map[champion]:\n",
    "            if winrate != \"'None'\":\n",
    "                # Remove extraneous characters that end up on the file for whatever reason\n",
    "                used_winrate = used_winrate + float(winrate.replace(\"'\",\"\"))\n",
    "                count += 1\n",
    "        used_winrate = used_winrate / count\n",
    "        team_2_total += used_winrate\n",
    "\n",
    "    return (team_1_total/5,team_2_total/5)"
   ]
  },
  {
   "cell_type": "markdown",
   "metadata": {},
   "source": [
    "### Winrate Only Driver\n",
    "To test this, I took varying amounts of games from our sample data and simply averaged both winrates, giving the predicted win to the higher of the two. We ran this 1000 times, each on a different sample of each size.  "
   ]
  },
  {
   "cell_type": "code",
   "execution_count": 112,
   "metadata": {},
   "outputs": [],
   "source": [
    "times = 0\n",
    "\n",
    "# Buckets of sample sizes\n",
    "output_graph_winrate = {1000:[],2000:[],3000:[],4000:[],5000:[],6000:[],7000:[],8000:[]}\n",
    "\n",
    "# Repeat this process 100 times\n",
    "while times < 100:\n",
    "    # Select v games from our sample data\n",
    "    for v in output_graph_winrate.keys():\n",
    "        statement = \"SELECT * FROM games ORDER BY random() LIMIT %d\" %(v,)\n",
    "        output = cursor.execute(statement)        \n",
    "        values = output.fetchall()\n",
    "\n",
    "        (correct,total) = guess_only_winrates(champions_winrates,champion_map,damage_map,sql,cursor,values)\n",
    "        \n",
    "        output_graph_winrate[v].append(100.0 * correct/total)\n",
    "\n",
    "    times += 1"
   ]
  },
  {
   "cell_type": "markdown",
   "metadata": {},
   "source": [
    "### Distribution of Correct Guesses Based only on Winrate\n",
    "Code to graph the outcome of only guessing based on winrate.  \n",
    "  \n",
    "The graph of this is very interesting, we can see that at a low sample amount, the variance was large, with a range of over 7%, but as we pulled more data into each sample set  that variance gradually closed. This holds to the adage that more data is likely to give you more accurate results. Additionally, we can see that we eventually come very close to 51%, though I believe this is due to the size of the data I have available."
   ]
  },
  {
   "cell_type": "code",
   "execution_count": 116,
   "metadata": {},
   "outputs": [
    {
     "data": {
      "image/png": "[encoded data removed]",
      "text/plain": [
       "<Figure size 432x288 with 1 Axes>"
      ]
     },
     "metadata": {
      "needs_background": "light"
     },
     "output_type": "display_data"
    }
   ],
   "source": [
    "frame = pandas.DataFrame(output_graph_winrate)\n",
    "boxplot = frame.boxplot()\n",
    "\n",
    "plt.ylabel('Correctness (100 * Correct / Total)')\n",
    "plt.xlabel('Sample Size (Games)')\n",
    "plt.title('Guessing Winner With Only Winrate (100 Trials)')\n",
    "plt.show()"
   ]
  },
  {
   "cell_type": "markdown",
   "metadata": {},
   "source": [
    "## Hypothesis 2: Guess From Damage Spread Only\n",
    "The following block of code will produce a guess as to which team will win solely based off of the spread of damage and the amount of tanks on two given teams. For every tank we will assign one point in favor of that team. Then if any team is missing a given type of damage, we assign a point to the enemy team (as it gives them an advantage). Then at the end we check where the value stands, positive indicates team_1 wins, negative indicates team_2 wins."
   ]
  },
  {
   "cell_type": "code",
   "execution_count": 34,
   "metadata": {},
   "outputs": [],
   "source": [
    "def guess_only_ad_ap(winrate_map,champion_map,damage_types,conn,cursor,values):\n",
    "    # Keep track of times correct and the total number of guessed\n",
    "    total = 0\n",
    "    correct = 0\n",
    "    ad_ap_value = 0\n",
    "    \n",
    "    # Now we begin guessing\n",
    "    for (gameId,winner,top1,jungle1,middle1,bottom1,support1,top2,jungle2,middle2,bottom2,support2) in values:\n",
    "        # Build out our lists of teams\n",
    "        team_1 = [top1,jungle1,middle1,bottom1,support1]\n",
    "        team_2 = [top2,jungle2,middle2,bottom2,support2]\n",
    "\n",
    "        # Calculate amount of ADs, APs, and Tanks on each team\n",
    "        (ad1,ap1,tank1) = calculate_ad_ap(team_1,damage_types)\n",
    "        (ad2,ap2,tank2) = calculate_ad_ap(team_2,damage_types)\n",
    "\n",
    "        # Tanks give that team some advantage\n",
    "        for i in range(0,tank1):\n",
    "            ad_ap_value += 1\n",
    "        for i in range(0,tank2):\n",
    "            ad_ap_value -= 1\n",
    "\n",
    "        # We give large value to the other team if the damage spread isn't great\n",
    "        if ad1 == 0 or ap1 == 0:\n",
    "            ad_ap_value -= 2\n",
    "        if ad2 == 0 or ap2 == 0:\n",
    "            ad_ap_value += 2 \n",
    "            \n",
    "\n",
    "        # If our value is > 0, team_1 should win, otherwise it's team_2\n",
    "        if ad_ap_value > 0:\n",
    "            guessed_winner = 1\n",
    "        else:\n",
    "            guessed_winner = -1\n",
    "\n",
    "        if winner == guessed_winner:\n",
    "            correct += 1\n",
    "            \n",
    "        total += 1\n",
    "\n",
    "        #print(\"On this pass we ended up with {} correct out of {} for a correct percentage of {}\".format(correct,total,100.0 * correct/total))\n",
    "\n",
    "    return (correct,total)"
   ]
  },
  {
   "cell_type": "markdown",
   "metadata": {},
   "source": [
    "### Calulcate Damage Spread\n",
    "Below we're just calculating the number of each type of damage and the amount of tanks."
   ]
  },
  {
   "cell_type": "code",
   "execution_count": 35,
   "metadata": {},
   "outputs": [],
   "source": [
    "def calculate_ad_ap(team,damage_map):\n",
    "    num_ad = 0\n",
    "    num_ap = 0\n",
    "    num_tanks = 0\n",
    "    # No switch statements in python so we make do with what we have\n",
    "    for champion in team:\n",
    "        if damage_map[champion] == \"AP\":\n",
    "            num_ap += 1\n",
    "        elif damage_map[champion] == \"AD\":\n",
    "            num_ad += 1\n",
    "        elif damage_map[champion] == \"TANK\":\n",
    "            num_tanks += 1\n",
    "    return (num_ad,num_ap,num_tanks)"
   ]
  },
  {
   "cell_type": "markdown",
   "metadata": {},
   "source": [
    "### Driver for Damage Spread and Tank Count Only\n",
    "When it came time to test my second hypothesis things became a bit trickier. I employed the same idea of selecting a random subset of the data and testing against that. This time I was counting the number of ADs, APs and Tanks, and adding or subtracting from a single value to produce one that was positive or negative. If it was 0 it was impossible to know and it would be a coinflip based on the current criteria."
   ]
  },
  {
   "cell_type": "code",
   "execution_count": 155,
   "metadata": {},
   "outputs": [],
   "source": [
    "# Keep track of number of trials\n",
    "times = 0\n",
    "\n",
    "# Buckets of sample sizes\n",
    "output_graph_ad_ap = {1000:[],2000:[],3000:[],4000:[],5000:[],6000:[],7000:[],8000:[]}\n",
    "\n",
    "# Repeat this process 100 times\n",
    "while times < 100:\n",
    "    for v in output_graph_ad_ap.keys():\n",
    "        statement = \"SELECT * FROM games ORDER BY random() LIMIT %d\" %(v,)\n",
    "        output = cursor.execute(statement)        \n",
    "        values = output.fetchall()\n",
    "\n",
    "        (correct,total) = guess_only_ad_ap(champions_winrates,champion_map,damage_map,sql,cursor,values)\n",
    "        \n",
    "        output_graph_ad_ap[v].append(100.0 * correct/total)\n",
    "\n",
    "    times += 1"
   ]
  },
  {
   "cell_type": "markdown",
   "metadata": {},
   "source": [
    "### Distribution of Correct Guesses Based Only on Damage Spread and Tank Count\n",
    "Code to graph the output of our guessing based only on damage type and spread.    \n",
    "  \n",
    "Here we actually see a very similar outcome to guessing solely based on winrates. The skew is greater for the 1000 sample size event, but beyond that they are extremely similar. When looking at this I actually had to put them side by side to make sure I hadn't just graphed the same thing twice. Interestingly, even at high sample values, we still ended up with around 51% correctness on average, though we did have outliers that dipped slightly below 50%."
   ]
  },
  {
   "cell_type": "code",
   "execution_count": 157,
   "metadata": {},
   "outputs": [
    {
     "data": {
      "image/png": "[encoded data removed]",
      "text/plain": [
       "<Figure size 432x288 with 1 Axes>"
      ]
     },
     "metadata": {
      "needs_background": "light"
     },
     "output_type": "display_data"
    }
   ],
   "source": [
    "frame = pandas.DataFrame(output_graph_ad_ap)\n",
    "boxplot = frame.boxplot()\n",
    "\n",
    "plt.ylabel('Correctness (100 * Correct / Total)')\n",
    "plt.xlabel('Sample Size')\n",
    "plt.title('Guessing Winner With Only Damage Types (100 Trials)')\n",
    "plt.show()"
   ]
  },
  {
   "cell_type": "markdown",
   "metadata": {},
   "source": [
    "## Hypothesis 3: Combining Damage Spread and Average Winrate\n",
    "Here I decided to use [Gradient Descent](https://ml-cheatsheet.readthedocs.io/en/latest/gradient_descent.html) to find a good way to combine our two previous methods to produce a better version. The four blocks below help me calculate new weights for each component.  \n",
    "  \n",
    "The first one computes the weighted total of all our inputs (winrate and damage spread). Then we calculate the sigma for this, which make calculations for updating weights a bit easier. As for updating weights we use the expected value (who won), sigma (we just calculated), x values (the inputs), the learning rate (sometimes denoted as alpha) and the weight initial. The last one calculates Loss and tells us how far from each data point we are. I intended to use it to check if we were close enough but I don't think it was working properly in my setup, so I scrapped it and didn't end up using it."
   ]
  },
  {
   "cell_type": "code",
   "execution_count": 38,
   "metadata": {},
   "outputs": [],
   "source": [
    "def calculate_z(weight_and_values):\n",
    "    z = 0\n",
    "    for (weight,value) in weight_and_values:\n",
    "        z += weight * value\n",
    "    return z"
   ]
  },
  {
   "cell_type": "code",
   "execution_count": 39,
   "metadata": {},
   "outputs": [],
   "source": [
    "def calculate_sigma(z):\n",
    "    sigma = 1/(1 + math.exp(-z))\n",
    "    return sigma"
   ]
  },
  {
   "cell_type": "code",
   "execution_count": 40,
   "metadata": {},
   "outputs": [],
   "source": [
    "# y is the expected value array\n",
    "# sigma is sigma(z(x)) ~= o_j\n",
    "# x is the actual calculated value array \n",
    "# Learning Rate is alpha\n",
    "def update_weights(y, sigma_values, x, learning_rate, weight_initial):\n",
    "    summation = 0\n",
    "    # Complicated Gradient Descent function calculation\n",
    "    for (j,o_j) in enumerate(sigma_values):\n",
    "        summation += (y[j] - o_j) * o_j * (1 - o_j) * x[j]\n",
    "    d_e = -summation\n",
    "    weight_new = weight_initial - learning_rate * d_e\n",
    "    return weight_new"
   ]
  },
  {
   "cell_type": "code",
   "execution_count": 41,
   "metadata": {},
   "outputs": [],
   "source": [
    "def calculate_loss(y,sigma):\n",
    "    return 0.5 * ((y - sigma) ** 2)"
   ]
  },
  {
   "cell_type": "markdown",
   "metadata": {},
   "source": [
    "### Training \n",
    "My initial idea was to use Gradient Descent to learn the best weights for both winrate and damage spread and tank count to help improve my guesses. This didn't work well, so what I instead tried to do was learn the best weight as I went. My learning rate stayed small as I thought I would be doing enough trials to have it make a difference, but apparently not.  \n",
    "  \n",
    "The idea behind the code is to calculate both the winrate and the damage spread as seen in Hypotheses 1 and 2 and then calculate sigma(z(x)) and use that to update our weights."
   ]
  },
  {
   "cell_type": "code",
   "execution_count": 44,
   "metadata": {},
   "outputs": [],
   "source": [
    "def guess_with_training(winrate_map,champion_map,damage_types,conn,cursor,values,winrate_weight,ad_ap_weight,learning_rate):\n",
    "    times = 0\n",
    "\n",
    "    guessed_rates = 0.0\n",
    "\n",
    "    correct = 0\n",
    "    total = 0\n",
    "    \n",
    "    x_values_wr = [] # This is x_j for winrates\n",
    "    x_values_ad_ap = [] # This is x_j for ad_ap\n",
    "    sigma_wr_calculated = [] # This is sigma(z(x)) for winrates\n",
    "    sigma_ad_ap_calculated = [] # This is sigma(z(x)) for ad_ap\n",
    "    winners = [] # This is essentially y\n",
    "    \n",
    "    # Now we begin guessing\n",
    "    for (i,(gameId,winner,top1,jungle1,middle1,\n",
    "            bottom1,support1,top2,jungle2,middle2,bottom2,support2)) in enumerate(values):\n",
    "        # Build out our lists of teams\n",
    "        team_1 = [top1,jungle1,middle1,bottom1,support1]\n",
    "        team_2 = [top2,jungle2,middle2,bottom2,support2]\n",
    "\n",
    "        winners.append(winner)\n",
    "\n",
    "        ad_ap_value = 0\n",
    "\n",
    "        # Calculate the average winrates for the two teams\n",
    "        (wr1,wr2) = calculate_average_wr(winrate_map,team_1,team_2)\n",
    "\n",
    "        # Winner by winrate\n",
    "        winrate = wr1-wr2\n",
    "\n",
    "        x_values_wr.append(winrate)\n",
    "\n",
    "        # Calculate the damage spread and tankiness of the teams\n",
    "        (ad1,ap1,tank1) = calculate_ad_ap(team_1,damage_types)\n",
    "        (ad2,ap2,tank2) = calculate_ad_ap(team_2,damage_types)\n",
    "\n",
    "        # Calculate the value from damage spread\n",
    "        # Tanks give that team some advantage\n",
    "        for i in range(0,tank1):\n",
    "            ad_ap_value += 1\n",
    "        for i in range(0,tank2):\n",
    "            ad_ap_value -= 1\n",
    "\n",
    "        # We give large value to the other team if the damage spread isn't great\n",
    "        if ad1 == 0 or ap1 == 0:\n",
    "            ad_ap_value -= 2\n",
    "        if ad2 == 0 or ap2 == 0:\n",
    "            ad_ap_value += 2 \n",
    "\n",
    "        x_values_ad_ap.append(ad_ap_value)\n",
    "\n",
    "        # Used to calculate z(x)\n",
    "        weight_and_values = [(winrate,winrate_weight),(ad_ap_value,ad_ap_weight)]\n",
    "\n",
    "        z_x_wr = calculate_z([(winrate,winrate_weight)])\n",
    "\n",
    "        z_x_ad_ap = calculate_z([(ad_ap_value,ad_ap_weight)])\n",
    "\n",
    "        sigma_z_x_wr = calculate_sigma(z_x_wr)\n",
    "\n",
    "        sigma_z_x_ad_ap = calculate_sigma(z_x_ad_ap)\n",
    "\n",
    "        sigma_wr_calculated.append(sigma_z_x_wr)\n",
    "\n",
    "        sigma_ad_ap_calculated.append(sigma_z_x_ad_ap)\n",
    "\n",
    "        guessed_val = calculate_z(weight_and_values)\n",
    "\n",
    "        if guessed_val > 0:\n",
    "            guessed_winner = 1\n",
    "        else:\n",
    "            guessed_winner = -1    \n",
    "\n",
    "        if winner == guessed_winner:\n",
    "            correct += 1\n",
    "        total += 1\n",
    "\n",
    "        e_w = calculate_loss(winner,guessed_val)\n",
    "\n",
    "    # Possible these should be moved into the for loop, ignored if loss is low enough?\n",
    "    winrate_weight = update_weights(winners, sigma_wr_calculated, x_values_wr, learning_rate, winrate_weight)\n",
    "\n",
    "    ad_ap_weight = update_weights(winners, sigma_ad_ap_calculated, x_values_ad_ap, learning_rate, ad_ap_weight)\n",
    "\n",
    "    #learning_rate = learning_rate / 2\n",
    "\n",
    "    #print(\"On pass {}: Our current weights are:\\nwinrate: {}\\nad_ap: {}\".format(times,winrate_weight,ad_ap_weight))\n",
    "    #print(\"On this pass we ended up with {} correct out of {} for a correct percentage of {}\".format(correct,total,100.0 * correct/total))\n",
    "    #print(\"%d Correct\\n%d Total\\n%.1f Percent correct\\nThe optimal weights were: %.4f and %.4f\" %(correct, total,100.0 * correct / total,winrate_weight,ad_ap_weight))\n",
    "\n",
    "    times += 1\n",
    "    guessed_rates += correct / total\n",
    "        \n",
    "    return (correct,total,winrate_weight,ad_ap_weight,learning_rate)"
   ]
  },
  {
   "cell_type": "markdown",
   "metadata": {},
   "source": [
    "### Driver for Gradient Descent\n",
    "Code to test our gradient descent using various sample sizes. Grabs some amount of random samples and tries to find a weight that works."
   ]
  },
  {
   "cell_type": "code",
   "execution_count": 45,
   "metadata": {},
   "outputs": [],
   "source": [
    "# Keep track of number of trials\n",
    "times = 0\n",
    "\n",
    "output_graph_trained = {1000:[],2000:[],3000:[],4000:[],5000:[],6000:[],7000:[],8000:[]}\n",
    "\n",
    "winrate_weight = 0.5\n",
    "ad_ap_weight = 0.5\n",
    "learning_rate = 0.001\n",
    "\n",
    "while times < 100:\n",
    "    for v in output_graph_trained.keys():\n",
    "        statement = \"SELECT * FROM games ORDER BY random() LIMIT %d\" %(v,)\n",
    "        output = cursor.execute(statement)        \n",
    "        values = output.fetchall()\n",
    "        (correct,total,winrate_weight,ad_ap_weight,learning_rate) = guess_with_training(champions_winrates,champion_map,damage_map,sql,cursor,values,winrate_weight,ad_ap_weight,learning_rate)\n",
    "        #print(\"%d %d %.2f\" %(correct,total, 100.0 * correct / total))\n",
    "        #print(\"%.2f %.2f\" %(wr_weight,ad_ap_weight))\n",
    "        output_graph_trained[v].append(100.0 * correct/total)\n",
    "        #print(v)\n",
    "        \n",
    "    times += 1"
   ]
  },
  {
   "cell_type": "markdown",
   "metadata": {},
   "source": [
    "### Graphing Gradient Descent Output\n",
    "I was hoping to see something slightly more promising, but unfortunately it appears that this method proves about as effective as winrates only and damage spread onyl, boasting only a 51% correctness on average at high sample values. The spread was worse than that of winrates only as well."
   ]
  },
  {
   "cell_type": "code",
   "execution_count": 46,
   "metadata": {},
   "outputs": [
    {
     "data": {
      "image/png": "[encoded data removed]",
      "text/plain": [
       "<Figure size 432x288 with 1 Axes>"
      ]
     },
     "metadata": {
      "needs_background": "light"
     },
     "output_type": "display_data"
    }
   ],
   "source": [
    "frame = pandas.DataFrame(output_graph_trained)\n",
    "boxplot = frame.boxplot()\n",
    "\n",
    "plt.ylabel('Correctness (100 * Correct / Total)')\n",
    "plt.xlabel('Sample Size')\n",
    "plt.title('Guessing Winner Training with Gradient Descent (100 Trials)')\n",
    "plt.show()"
   ]
  },
  {
   "cell_type": "markdown",
   "metadata": {},
   "source": [
    "## Hypothesis 4: Guessing Based on Winrate and Lane Selection\n",
    "My gradient descent attempt didn't produce a better outcome than before, I'm not sure if it's due to the values I assigned to it, or if the learning rate was off, but I didn't have the time to figure that out so I decided to try something different. The Riot API will occasionally contain a \"Lane\" value for each participant telling us the lane they played. Unfortunately this is seemingly random and isn't reliable, however I think it's good enough to see some improvement. The code below helps test this.  \n",
    "  \n",
    "Unfortunately, since I did not store the full game data from the API, I have to call the API again on the gameId to get the lane information. This is a slow and arduous process and I would only do so if you have nothing better to do. Alternatively if you want to see just one pass, you can change the code in the second block to go from range 0 to 1.  \n",
    "  \n",
    "So as for what the code is doing, we're calling the API, pulling up the match details, looking for the participants lane, then looking for the champion they were playing while in that lane, search up the winrate and use that instead of the average. If no lane was recorded, for whatever reason, we just use the average of each role as we did without lane information. "
   ]
  },
  {
   "cell_type": "code",
   "execution_count": 67,
   "metadata": {},
   "outputs": [],
   "source": [
    "def try_for_lanes(champion_map,winrate_map,key,cursor,amount):\n",
    "    # Grab 2000 games at random from our sql database\n",
    "    statement = \"SELECT * FROM games ORDER BY random() LIMIT {}\".format(amount)\n",
    "    output = cursor.execute(statement).fetchall()\n",
    "    correct = 0\n",
    "\n",
    "    total = 0\n",
    "\n",
    "    for (gameId,winner,top1,jungle1,middle1,bottom1,support1,top2,jungle2,middle2,bottom2,support2) in output:\n",
    "        total_1 = 0\n",
    "        total_2 = 0\n",
    "        times_repeated = 0\n",
    "        while True:\n",
    "            request = requests.get(\"https://na1.api.riotgames.com/lol/match/v4/matches/{}?api_key={}\".format(gameId,key))\n",
    "            if request.status_code != 200:\n",
    "                #print(\"Sleeping for 2 minutes\")\n",
    "                time.sleep(90)\n",
    "            else:\n",
    "                break\n",
    "        game = request.json()\n",
    "        #print(len(game[\"participants\"]))\n",
    "        if \"participants\" not in game.keys():\n",
    "            continue\n",
    "        # Now get the champions and keep track of them\n",
    "        for participant in game[\"participants\"]:\n",
    "            used_winrate = 0\n",
    "            count = 0\n",
    "            champion_name = champion_map[participant[\"championId\"]]\n",
    "            lane = participant[\"timeline\"][\"lane\"].lower()\n",
    "            # If the player was top lane\n",
    "            if lane == \"TOP\":\n",
    "                (position,winrate) = winrate_map[champion_name][\"'top'\"]\n",
    "                if winrate != \"'None'\":\n",
    "                    # Remove extraneous characters that end up on the file for whatever reason\n",
    "                    wr = float(winrate.replace(\"'\",\"\"))\n",
    "                # Otherwise we need to do an average of all the winrates\n",
    "                else:\n",
    "                    # Make sure we're only grabbing winrates that exist\n",
    "                    for (position,winrate) in winrate_map[champion_name]:\n",
    "                        if winrate != \"'None'\":\n",
    "                            # Remove extraneous characters that end up on the file for whatever reason\n",
    "                            used_winrate += used_winrate + float(winrate.replace(\"'\",\"\"))\n",
    "                            count += 1\n",
    "                    wr = used_winrate / count\n",
    "                if int(participant[\"teamId\"]) == 100:\n",
    "                    total_1 += wr\n",
    "                else:\n",
    "                    total_2 += wr\n",
    "            elif lane == \"JUNGLE\":\n",
    "                (position,winrate) = winrate_map[champion_name][\"'jungle'\"]\n",
    "                if winrate != \"'None'\":\n",
    "                    # Remove extraneous characters that end up on the file for whatever reason\n",
    "                    wr = float(winrate.replace(\"'\",\"\"))\n",
    "                # Otherwise we need to do an average of all the winrates\n",
    "                else:\n",
    "                    # Make sure we're only grabbing winrates that exist\n",
    "                    for (position,winrate) in winrate_map[champion_name]:\n",
    "                        if winrate != \"'None'\":\n",
    "                            # Remove extraneous characters that end up on the file for whatever reason\n",
    "                            used_winrate = used_winrate + float(winrate.replace(\"'\",\"\"))\n",
    "                            count += 1\n",
    "                    wr = used_winrate / count\n",
    "                if int(participant[\"teamId\"]) == 100:\n",
    "                    total_1 += wr\n",
    "                else:\n",
    "                    total_2 += wr\n",
    "            elif lane == \"MIDDLE\":\n",
    "                (position,winrate) = winrate_map[champion_name][\"'mid'\"]\n",
    "                if winrate != \"'None'\":\n",
    "                    # Remove extraneous characters that end up on the file for whatever reason\n",
    "                    wr = float(winrate.replace(\"'\",\"\"))\n",
    "                # Otherwise we need to do an average of all the winrates\n",
    "                else:\n",
    "                    # Make sure we're only grabbing winrates that exist\n",
    "                    for (position,winrate) in winrate_map[champion_name]:\n",
    "                        if winrate != \"'None'\":\n",
    "                            # Remove extraneous characters that end up on the file for whatever reason\n",
    "                            used_winrate = used_winrate + float(winrate.replace(\"'\",\"\"))\n",
    "                            count += 1\n",
    "                    wr = used_winrate / count\n",
    "                if int(participant[\"teamId\"]) == 100:\n",
    "                    total_1 += wr\n",
    "                else:\n",
    "                    total_2 += wr\n",
    "            elif lane == \"BOTTOM\":\n",
    "                (position,winrate) = winrate_map[champion_name][\"'bot'\"]\n",
    "                if winrate != \"'None'\":\n",
    "                    # Remove extraneous characters that end up on the file for whatever reason\n",
    "                    wr = float(winrate.replace(\"'\",\"\"))\n",
    "                # Otherwise we need to do an average of all the winrates\n",
    "                else:\n",
    "                    # Make sure we're only grabbing winrates that exist\n",
    "                    for (position,winrate) in winrate_map[champion_name]:\n",
    "                        if winrate != \"'None'\":\n",
    "                            # Remove extraneous characters that end up on the file for whatever reason\n",
    "                            used_winrate = used_winrate + float(winrate.replace(\"'\",\"\"))\n",
    "                            count += 1\n",
    "                    wr = used_winrate / count\n",
    "                if int(participant[\"teamId\"]) == 100:\n",
    "                    total_1 += wr\n",
    "                else:\n",
    "                    total_2 += wr\n",
    "            elif lane == \"SUPPORT\":\n",
    "                (position,winrate) = winrate_map[champion_name][\"'support'\"]\n",
    "                if winrate != \"'None'\":\n",
    "                    # Remove extraneous characters that end up on the file for whatever reason\n",
    "                    wr = float(winrate.replace(\"'\",\"\"))\n",
    "                # Otherwise we need to do an average of all the winrates\n",
    "                else:\n",
    "                    # Make sure we're only grabbing winrates that exist\n",
    "                    for (position,winrate) in winrate_map[champion_name]:\n",
    "                        if winrate != \"'None'\":\n",
    "                            # Remove extraneous characters that end up on the file for whatever reason\n",
    "                            used_winrate = used_winrate + float(winrate.replace(\"'\",\"\"))\n",
    "                            count += 1\n",
    "                    wr = used_winrate / count\n",
    "                if int(participant[\"teamId\"]) == 100:\n",
    "                    total_1 += wr\n",
    "                else:\n",
    "                    total_2 += wr\n",
    "            else:\n",
    "                # Make sure we're only grabbing winrates that exist\n",
    "                for (position,winrate) in winrate_map[champion_name]:\n",
    "                    if winrate != \"'None'\":\n",
    "                        # Remove extraneous characters that end up on the file for whatever reason\n",
    "                        used_winrate = used_winrate + float(winrate.replace(\"'\",\"\"))\n",
    "                        count += 1\n",
    "                wr = used_winrate / count\n",
    "                if int(participant[\"teamId\"]) == 100:\n",
    "                    total_1 += wr\n",
    "                else:\n",
    "                    total_2 += wr\n",
    "            #print(total_1)\n",
    "            #print(total_2)\n",
    "        #print(gameId)\n",
    "        if total_1 > total_2:\n",
    "            guessed = 1\n",
    "        else:\n",
    "            guessed = -1\n",
    "        if guessed == winner:\n",
    "            correct += 1\n",
    "        total += 1\n",
    "\n",
    "    #print(\"%d %d %.2f\" %(correct,total,100 * correct/total))\n",
    "    return (correct,total)"
   ]
  },
  {
   "cell_type": "markdown",
   "metadata": {},
   "source": [
    "### Driver Code for Distribution with Potentially Known Winrate\n",
    "Code to attempt to guess with lane information potentially known."
   ]
  },
  {
   "cell_type": "code",
   "execution_count": 79,
   "metadata": {},
   "outputs": [],
   "source": [
    "amount = {50: []}\n",
    "my_key = %env key\n",
    "my_key = my_key.replace('\"','')\n",
    "for i in range(0,30):\n",
    "    for am in amount.keys():\n",
    "        (correct,total) = try_for_lanes(champion_map,champions_winrates,my_key,cursor,am)\n",
    "        amount[am].append(100.0 * correct / total)"
   ]
  },
  {
   "cell_type": "markdown",
   "metadata": {},
   "source": [
    "### Distribution of Winrate Knowing Lanes\n",
    "Code to show the distributions of correct guessed based off of Winrates and knowing the lanes. I wasn't able to run this more due to time constraints.  \n",
    "  \n",
    "What we can see from it, however, is that there is a measurable increase in guessing correctly, sitting at about 52.5% instead of the prior 51%. This is on a somewhat small sample size however, and would need more testing to be done on it. Additionally, this data includes games that don't have positional data attached to them, if they did I believe we would see a significant increase in guessing capability, to upwards of 60 percent."
   ]
  },
  {
   "cell_type": "code",
   "execution_count": 81,
   "metadata": {},
   "outputs": [
    {
     "name": "stdout",
     "output_type": "stream",
     "text": [
      "81\n"
     ]
    },
    {
     "data": {
      "image/png": "[encoded data removed]",
      "text/plain": [
       "<Figure size 432x288 with 1 Axes>"
      ]
     },
     "metadata": {
      "needs_background": "light"
     },
     "output_type": "display_data"
    }
   ],
   "source": [
    "num_bins = 25 # Number of bins for histogram, 25 seemed pretty good and didn't overcrowd\n",
    "print(len(amount[50]))\n",
    "temp = pandas.DataFrame(amount[50])\n",
    "plt.axvline(x=temp[0].mean(),color=\"r\")\n",
    "plt.hist(amount[50],num_bins,rwidth=0.5)\n",
    "plt.title('Distribution of Winrate With Potential Known Lanes (81 Games)')\n",
    "plt.xlabel('Winrates (%)')\n",
    "plt.ylabel('Frequency')\n",
    "plt.legend([\"Mean\"])\n",
    "\n",
    "plt.show()"
   ]
  },
  {
   "cell_type": "markdown",
   "metadata": {},
   "source": [
    "# Conclusion\n",
    "Overall this experiment showed the viability of a guessing system, occasionally being slightly better than a coinflip and having some stand out performances under certain data conditions (having lane assignments be known for instance), leaving a lot of room for growth and expansion. We could clearly see that adding new parameters to a guessing system didn't always produce positive results (Hypothesis 3), but properly using those which directly contribute to the selection of a certain metric to use, should result in a positive increase in guessing capabilities (Hypothesis 4)  \n",
    "  \n",
    "Another area to look at to improve upon would be the API Key available to me, this key does not allow for a lot of requests, capping at 100 per 2 minutes, leading to significant bottlenecking when collecting data and parsing from the API. The only way to do this would have been to get a production api key, which is an arduous process requiring me to have a working prototype and would expect me to be dealing with the general public.  \n",
    "  \n",
    "In a similar vein, I think with more time, there would be a high likelihood for developing a system that correctly guesses games with upwards of 60% correctness. Overall I enjoyed this project despite the setbacks and current implementation restrictions, and it's very possible I expand this into a full-blown personal project."
   ]
  },
  {
   "cell_type": "code",
   "execution_count": null,
   "metadata": {},
   "outputs": [],
   "source": []
  }
 ],
 "metadata": {
  "kernelspec": {
   "display_name": "Python 3",
   "language": "python",
   "name": "python3"
  },
  "language_info": {
   "codemirror_mode": {
    "name": "ipython",
    "version": 3
   },
   "file_extension": ".py",
   "mimetype": "text/x-python",
   "name": "python",
   "nbconvert_exporter": "python",
   "pygments_lexer": "ipython3",
   "version": "3.6.9"
  }
 },
 "nbformat": 4,
 "nbformat_minor": 4
}
